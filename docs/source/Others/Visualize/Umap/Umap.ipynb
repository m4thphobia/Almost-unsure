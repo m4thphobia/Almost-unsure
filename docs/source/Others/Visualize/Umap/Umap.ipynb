{
  "cells": [
    {
      "cell_type": "markdown",
      "metadata": {
        "id": "ZurmHQZ2EqbL"
      },
      "source": [
        "# Visualization3: Umap\n"
      ]
    }
  ],
  "metadata": {
    "colab": {
      "provenance": []
    },
    "kernelspec": {
      "display_name": "Python 3",
      "name": "python3"
    },
    "language_info": {
      "name": "python"
    }
  },
  "nbformat": 4,
  "nbformat_minor": 0
}
