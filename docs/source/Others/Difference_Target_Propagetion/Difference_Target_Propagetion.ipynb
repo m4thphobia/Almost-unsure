{
  "cells": [
    {
      "cell_type": "markdown",
      "metadata": {
        "id": "ZurmHQZ2EqbL"
      },
      "source": [
        "# Difference Target Propagetion\n"
      ]
    }
  ],
  "metadata": {
    "colab": {
      "provenance": []
    },
    "kernelspec": {
      "display_name": "Python 3",
      "name": "python3"
    },
    "language_info": {
      "name": "python"
    }
  },
  "nbformat": 4,
  "nbformat_minor": 0
}
