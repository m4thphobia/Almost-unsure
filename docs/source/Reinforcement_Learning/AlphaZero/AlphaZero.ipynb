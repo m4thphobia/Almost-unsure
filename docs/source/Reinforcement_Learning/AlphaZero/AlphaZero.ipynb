{
  "nbformat": 4,
  "nbformat_minor": 0,
  "metadata": {
    "colab": {
      "provenance": []
    },
    "kernelspec": {
      "name": "python3",
      "display_name": "Python 3"
    },
    "language_info": {
      "name": "python"
    }
  },
  "cells": [
    {
      "cell_type": "markdown",
      "source": [
        "#AlphaZero\n",
        "\n",
        "AlphaZero is nice because it enabled us to us MCTS with DL\n"
      ],
      "metadata": {
        "id": "ZurmHQZ2EqbL"
      }
    },
    {
      "cell_type": "code",
      "source": [
        "import numpy as np\n",
        "\n",
        "print(1+1)"
      ],
      "metadata": {
        "colab": {
          "base_uri": "https://localhost:8080/"
        },
        "id": "KWY0vIj4GYnh",
        "outputId": "57626201-1c8b-4adf-e673-cf36e39c8015"
      },
      "execution_count": 2,
      "outputs": [
        {
          "output_type": "stream",
          "name": "stdout",
          "text": [
            "2\n"
          ]
        }
      ]
    },
    {
      "cell_type": "markdown",
      "source": [
        "# MCTS"
      ],
      "metadata": {
        "id": "HVZIStOIGcqg"
      }
    },
    {
      "cell_type": "code",
      "source": [],
      "metadata": {
        "id": "SnRagkYhGmAo"
      },
      "execution_count": null,
      "outputs": []
    }
  ]
}