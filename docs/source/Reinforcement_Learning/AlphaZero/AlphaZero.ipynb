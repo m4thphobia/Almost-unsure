{
  "cells": [
    {
      "cell_type": "markdown",
      "metadata": {
        "id": "ZurmHQZ2EqbL"
      },
      "source": [
        "# AlphaZero\n",
        "\n",
        "AlphaZero is nice because it enabled us to us MCTS with DL\n"
      ]
    },
    {
      "cell_type": "code",
      "execution_count": 2,
      "metadata": {
        "colab": {
          "base_uri": "https://localhost:8080/"
        },
        "id": "KWY0vIj4GYnh",
        "outputId": "57626201-1c8b-4adf-e673-cf36e39c8015"
      },
      "outputs": [
        {
          "name": "stdout",
          "output_type": "stream",
          "text": [
            "2\n"
          ]
        }
      ],
      "source": [
        "import numpy as np\n",
        "\n",
        "print(1+1)"
      ]
    },
    {
      "cell_type": "markdown",
      "metadata": {
        "id": "HVZIStOIGcqg"
      },
      "source": [
        "## Architecture"
      ]
    },
    {
      "cell_type": "code",
      "execution_count": null,
      "metadata": {
        "id": "SnRagkYhGmAo"
      },
      "outputs": [],
      "source": []
    },
    {
      "cell_type": "markdown",
      "metadata": {},
      "source": [
        "## Dirichret Noise\n",
        "\n",
        "diricretnoiseを加えて探索促進もそうだし, アルゴリズム的にはこれがないと一生expandされない子が出てくる"
      ]
    },
    {
      "cell_type": "markdown",
      "metadata": {},
      "source": []
    }
  ],
  "metadata": {
    "colab": {
      "provenance": []
    },
    "kernelspec": {
      "display_name": "Python 3",
      "name": "python3"
    },
    "language_info": {
      "name": "python"
    }
  },
  "nbformat": 4,
  "nbformat_minor": 0
}
