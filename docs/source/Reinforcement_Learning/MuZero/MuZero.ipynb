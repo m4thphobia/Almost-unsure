{
  "cells": [
    {
      "cell_type": "markdown",
      "metadata": {
        "id": "ZurmHQZ2EqbL"
      },
      "source": [
        "# MuZero\n"
      ]
    },
    {
      "cell_type": "markdown",
      "metadata": {
        "id": "HVZIStOIGcqg"
      },
      "source": [
        "## Architecture"
      ]
    },
    {
      "cell_type": "markdown",
      "metadata": {},
      "source": [
        "we have to add player to out action because we have to encode our action"
      ]
    },
    {
      "cell_type": "code",
      "execution_count": null,
      "metadata": {
        "vscode": {
          "languageId": "plaintext"
        }
      },
      "outputs": [],
      "source": [
        "@dataclass\n",
        "class Action:\n",
        "    index: int\n",
        "    player: Player\n",
        "    position: Optional[Tuple[int, int]] = field(init=False)\n",
        "\n",
        "    def __post_init__(self):\n",
        "        assert self.index >= 0 and self.index <= 64\n",
        "        if self.index < 64:\n",
        "            self.position = divmod(self.index, 8)\n",
        "        else:\n",
        "            self.position = None\n",
        "\n",
        "    def encode(self):\n",
        "        encoded_action = np.zeros((2, 8, 8), dtype=np.bool)\n",
        "        layer = 0 if self.player is Player.WHITE else 1\n",
        "        encoded_action[layer, self.position] = 1\n",
        "        return encoded_action"
      ]
    },
    {
      "cell_type": "code",
      "execution_count": null,
      "metadata": {
        "vscode": {
          "languageId": "plaintext"
        }
      },
      "outputs": [],
      "source": []
    }
  ],
  "metadata": {
    "colab": {
      "provenance": []
    },
    "kernelspec": {
      "display_name": "Python 3",
      "name": "python3"
    },
    "language_info": {
      "name": "python"
    }
  },
  "nbformat": 4,
  "nbformat_minor": 0
}
