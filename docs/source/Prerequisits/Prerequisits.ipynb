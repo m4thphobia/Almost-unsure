{
  "cells": [
    {
      "cell_type": "markdown",
      "metadata": {
        "id": "ZurmHQZ2EqbL"
      },
      "source": [
        "# Prerequisits\n",
        "\n",
        "**Note 1:**\n",
        "This article is not intended for beginners. It does not cover the basics of machine learning, foundational mathematics such as linear algebra and calculus, nor does it provide explanations on how to use Python or PyTorch.\n",
        "\n",
        "\\\n",
        "**Note 2:**\n",
        "I often use the expression 'Neural networks estimate probability distributions'. When the output layer of the neural network is softmax, it explicitly approximates a probability distribution. However, there are cases where the output is an image or class labels. It might be difficult to grasp the idea that even in such cases, the neural network is estimating a probability distribution. Even in such cases, we can consider that the neural network is estimating a probability distribution. Let's check this with an following example.\n",
        "\n",
        "\\\n",
        "As you already know, the architecture of the basic neural networks is composed of a combination of linear layers and activation functions. The parameters of these linear layers are learned to minimize the loss of the network's output.\n",
        "Have you noticed the inconsistency that the output of a neural network does not necessarily need to be a probability distribution, while the loss function compares two probability distributions.\n",
        "\n",
        "This inconsistency can be resolved by the following explanation \\\n",
        "**brabrabra**\n",
        "\\\n",
        "Thus, even if the output of a neural network is not explicitly a probability distribution, the network can be considered as estimating a probability distribution. The output of the neural network can be viewed as a sample from this probability distribution."
      ]
    },
    {
      "cell_type": "markdown",
      "metadata": {},
      "source": []
    },
    {
      "cell_type": "markdown",
      "metadata": {},
      "source": []
    }
  ],
  "metadata": {
    "colab": {
      "provenance": []
    },
    "kernelspec": {
      "display_name": "Python 3",
      "name": "python3"
    },
    "language_info": {
      "name": "python"
    }
  },
  "nbformat": 4,
  "nbformat_minor": 0
}
